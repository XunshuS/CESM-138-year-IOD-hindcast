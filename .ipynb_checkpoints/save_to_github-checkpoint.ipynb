{
 "cells": [
  {
   "cell_type": "code",
   "execution_count": 1,
   "id": "b0b41d53",
   "metadata": {},
   "outputs": [],
   "source": [
    "import xarray as xr\n",
    "import numpy as np\n",
    "import matplotlib.pyplot as plt\n",
    "%matplotlib inline\n"
   ]
  },
  {
   "cell_type": "code",
   "execution_count": 19,
   "id": "a31e81f7",
   "metadata": {},
   "outputs": [
    {
     "name": "stdout",
     "output_type": "stream",
     "text": [
      "xarray.Dataset {\n",
      "dimensions:\n",
      "\tlat = 180 ;\n",
      "\tlon = 360 ;\n",
      "\tnfc = 12 ;\n",
      "\tntime = 552 ;\n",
      "\n",
      "variables:\n",
      "\tfloat64 lat(lat) ;\n",
      "\tfloat64 lon(lon) ;\n",
      "\tfloat64 ssta_fc(nfc, ntime, lat, lon) ;\n",
      "\n",
      "// global attributes:\n",
      "}"
     ]
    }
   ],
   "source": [
    "lon=np.arange(1,360,2.5)\n",
    "lat=np.arange(-60,61,2)\n",
    "\n",
    "ds=xr.open_dataset(\"../ssta_fc.nc\")\n",
    "ds.info()\n",
    "\n",
    "ssta04=ds[\"ssta_fc\"][0:6,1::4].interp(lon=lon,lat=lat)\n",
    "ssta07=ds[\"ssta_fc\"][0:6,2::4].interp(lon=lon,lat=lat)\n",
    "ds.close()\n",
    "ds=xr.Dataset({\"ssta_fc\":ssta04})\n",
    "ds.to_netcdf(\"ssta_fc_04.nc\")\n",
    "ds.close()\n",
    "ds=xr.Dataset({\"ssta_fc\":ssta07})\n",
    "ds.to_netcdf(\"ssta_fc_07.nc\")\n",
    "ds.close()"
   ]
  },
  {
   "cell_type": "code",
   "execution_count": 20,
   "id": "1d91c190",
   "metadata": {},
   "outputs": [
    {
     "name": "stdout",
     "output_type": "stream",
     "text": [
      "xarray.Dataset {\n",
      "dimensions:\n",
      "\tlat = 180 ;\n",
      "\tlon = 360 ;\n",
      "\tntime = 552 ;\n",
      "\tnfc = 12 ;\n",
      "\n",
      "variables:\n",
      "\tfloat64 lat(lat) ;\n",
      "\tfloat64 lon(lon) ;\n",
      "\tfloat32 t90a(ntime, nfc, lat, lon) ;\n",
      "\tfloat32 t90m(ntime, nfc, lat, lon) ;\n",
      "\n",
      "// global attributes:\n",
      "}"
     ]
    }
   ],
   "source": [
    "ds=xr.open_dataset(\"../t90/t90afc.nc\")\n",
    "ds.info()\n",
    "\n",
    "ssta04=ds[\"t90a\"][1::4,0:6].interp(lon=lon,lat=lat).transpose(\"nfc\",\"ntime\",\"lat\",\"lon\")\n",
    "ssta07=ds[\"t90a\"][2::4,0:6].interp(lon=lon,lat=lat).transpose(\"nfc\",\"ntime\",\"lat\",\"lon\")\n",
    "ds.close()\n",
    "ds=xr.Dataset({\"t90a_fc\":ssta04})\n",
    "ds.to_netcdf(\"t90a_fc_04.nc\")\n",
    "ds.close()\n",
    "ds=xr.Dataset({\"t90a_fc\":ssta07})\n",
    "ds.to_netcdf(\"t90a_fc_07.nc\")\n",
    "ds.close()"
   ]
  },
  {
   "cell_type": "code",
   "execution_count": 18,
   "id": "5c56689d",
   "metadata": {},
   "outputs": [
    {
     "name": "stdout",
     "output_type": "stream",
     "text": [
      "xarray.Dataset {\n",
      "dimensions:\n",
      "\tlat = 180 ;\n",
      "\tlon = 360 ;\n",
      "\tnfc = 12 ;\n",
      "\tntime = 552 ;\n",
      "\n",
      "variables:\n",
      "\tfloat64 lat(lat) ;\n",
      "\tfloat64 lon(lon) ;\n",
      "\tfloat64 u850a_fc(nfc, ntime, lat, lon) ;\n",
      "\tfloat64 v850a_fc(nfc, ntime, lat, lon) ;\n",
      "\n",
      "// global attributes:\n",
      "}"
     ]
    }
   ],
   "source": [
    "ds=xr.open_dataset(\"../uv850a_fc.nc\")\n",
    "ds.info()\n",
    "ds.close()"
   ]
  },
  {
   "cell_type": "code",
   "execution_count": 21,
   "id": "cf9489ec",
   "metadata": {},
   "outputs": [
    {
     "name": "stdout",
     "output_type": "stream",
     "text": [
      "xarray.Dataset {\n",
      "dimensions:\n",
      "\tlat = 180 ;\n",
      "\tlon = 360 ;\n",
      "\tnfc = 12 ;\n",
      "\tntime = 552 ;\n",
      "\n",
      "variables:\n",
      "\tfloat64 lat(lat) ;\n",
      "\tfloat64 lon(lon) ;\n",
      "\tfloat64 u850a_fc(nfc, ntime, lat, lon) ;\n",
      "\tfloat64 v850a_fc(nfc, ntime, lat, lon) ;\n",
      "\n",
      "// global attributes:\n",
      "}"
     ]
    }
   ],
   "source": [
    "ds=xr.open_dataset(\"../uv850a_fc.nc\")\n",
    "ds.info()\n",
    "\n",
    "u850a04=ds[\"u850a_fc\"][0:6,1::4].interp(lon=lon,lat=lat)\n",
    "u850a07=ds[\"u850a_fc\"][0:6,2::4].interp(lon=lon,lat=lat)\n",
    "\n",
    "v850a04=ds[\"v850a_fc\"][0:6,1::4].interp(lon=lon,lat=lat)\n",
    "v850a07=ds[\"v850a_fc\"][0:6,2::4].interp(lon=lon,lat=lat)\n",
    "\n",
    "\n",
    "ds=xr.Dataset({\"u850a_fc\":u850a04})\n",
    "ds.to_netcdf(\"u850a_fc_04.nc\")\n",
    "ds.close()\n",
    "ds=xr.Dataset({\"u850a_fc\":u850a07})\n",
    "ds.to_netcdf(\"u850a_fc_07.nc\")\n",
    "\n",
    "ds=xr.Dataset({\"v850a_fc\":v850a04})\n",
    "ds.to_netcdf(\"v850a_fc_04.nc\")\n",
    "ds.close()\n",
    "ds=xr.Dataset({\"v850a_fc\":v850a07})\n",
    "ds.to_netcdf(\"v850a_fc_07.nc\")\n",
    "ds.close()"
   ]
  }
 ],
 "metadata": {
  "kernelspec": {
   "display_name": "Python 3 (ipykernel)",
   "language": "python",
   "name": "python3"
  },
  "language_info": {
   "codemirror_mode": {
    "name": "ipython",
    "version": 3
   },
   "file_extension": ".py",
   "mimetype": "text/x-python",
   "name": "python",
   "nbconvert_exporter": "python",
   "pygments_lexer": "ipython3",
   "version": "3.7.10"
  }
 },
 "nbformat": 4,
 "nbformat_minor": 5
}
